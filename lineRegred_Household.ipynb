{
 "cells": [
  {
   "cell_type": "code",
   "execution_count": 1,
   "metadata": {},
   "outputs": [],
   "source": [
    "import pandas as pd\n",
    "import numpy as np\n",
    "import time\n",
    "import sklearn\n",
    "import matplotlib as mpl\n",
    "import matplotlib.pyplot as plt\n",
    "from sklearn.linear_model import LinearRegression\n",
    "from sklearn.model_selection import train_test_split"
   ]
  },
  {
   "cell_type": "code",
   "execution_count": 2,
   "metadata": {},
   "outputs": [],
   "source": [
    "path = './household_power_consumption_1000.txt'"
   ]
  },
  {
   "cell_type": "code",
   "execution_count": 3,
   "metadata": {},
   "outputs": [],
   "source": [
    "names = ['Date','Time','Global_active_power','Global_reactive_power','Voltage','Global_intensity','Sub_metering_1','Sub_metering_2','Sub_metering_3']"
   ]
  },
  {
   "cell_type": "code",
   "execution_count": 4,
   "metadata": {},
   "outputs": [],
   "source": [
    "df = pd.read_csv(path,sep = ';' )"
   ]
  },
  {
   "cell_type": "code",
   "execution_count": 5,
   "metadata": {
    "scrolled": true
   },
   "outputs": [
    {
     "data": {
      "text/html": [
       "<div>\n",
       "<style scoped>\n",
       "    .dataframe tbody tr th:only-of-type {\n",
       "        vertical-align: middle;\n",
       "    }\n",
       "\n",
       "    .dataframe tbody tr th {\n",
       "        vertical-align: top;\n",
       "    }\n",
       "\n",
       "    .dataframe thead th {\n",
       "        text-align: right;\n",
       "    }\n",
       "</style>\n",
       "<table border=\"1\" class=\"dataframe\">\n",
       "  <thead>\n",
       "    <tr style=\"text-align: right;\">\n",
       "      <th></th>\n",
       "      <th>Date</th>\n",
       "      <th>Time</th>\n",
       "      <th>Global_active_power</th>\n",
       "      <th>Global_reactive_power</th>\n",
       "      <th>Voltage</th>\n",
       "      <th>Global_intensity</th>\n",
       "      <th>Sub_metering_1</th>\n",
       "      <th>Sub_metering_2</th>\n",
       "      <th>Sub_metering_3</th>\n",
       "    </tr>\n",
       "  </thead>\n",
       "  <tbody>\n",
       "    <tr>\n",
       "      <th>0</th>\n",
       "      <td>15/1/2007</td>\n",
       "      <td>13:17:00</td>\n",
       "      <td>0.500</td>\n",
       "      <td>0.130</td>\n",
       "      <td>243.350</td>\n",
       "      <td>2.400</td>\n",
       "      <td>0.000</td>\n",
       "      <td>0.000</td>\n",
       "      <td>0.0</td>\n",
       "    </tr>\n",
       "    <tr>\n",
       "      <th>1</th>\n",
       "      <td>15/1/2007</td>\n",
       "      <td>13:18:00</td>\n",
       "      <td>0.512</td>\n",
       "      <td>0.130</td>\n",
       "      <td>243.000</td>\n",
       "      <td>2.400</td>\n",
       "      <td>0.000</td>\n",
       "      <td>0.000</td>\n",
       "      <td>0.0</td>\n",
       "    </tr>\n",
       "    <tr>\n",
       "      <th>2</th>\n",
       "      <td>15/1/2007</td>\n",
       "      <td>13:19:00</td>\n",
       "      <td>0.508</td>\n",
       "      <td>0.132</td>\n",
       "      <td>243.520</td>\n",
       "      <td>2.400</td>\n",
       "      <td>0.000</td>\n",
       "      <td>0.000</td>\n",
       "      <td>0.0</td>\n",
       "    </tr>\n",
       "    <tr>\n",
       "      <th>3</th>\n",
       "      <td>15/1/2007</td>\n",
       "      <td>13:20:00</td>\n",
       "      <td>0.504</td>\n",
       "      <td>0.126</td>\n",
       "      <td>242.660</td>\n",
       "      <td>2.400</td>\n",
       "      <td>0.000</td>\n",
       "      <td>0.000</td>\n",
       "      <td>0.0</td>\n",
       "    </tr>\n",
       "    <tr>\n",
       "      <th>4</th>\n",
       "      <td>15/1/2007</td>\n",
       "      <td>13:21:00</td>\n",
       "      <td>0.504</td>\n",
       "      <td>0.132</td>\n",
       "      <td>243.570</td>\n",
       "      <td>2.400</td>\n",
       "      <td>0.000</td>\n",
       "      <td>0.000</td>\n",
       "      <td>0.0</td>\n",
       "    </tr>\n",
       "  </tbody>\n",
       "</table>\n",
       "</div>"
      ],
      "text/plain": [
       "        Date      Time Global_active_power Global_reactive_power  Voltage  \\\n",
       "0  15/1/2007  13:17:00               0.500                 0.130  243.350   \n",
       "1  15/1/2007  13:18:00               0.512                 0.130  243.000   \n",
       "2  15/1/2007  13:19:00               0.508                 0.132  243.520   \n",
       "3  15/1/2007  13:20:00               0.504                 0.126  242.660   \n",
       "4  15/1/2007  13:21:00               0.504                 0.132  243.570   \n",
       "\n",
       "  Global_intensity Sub_metering_1 Sub_metering_2  Sub_metering_3  \n",
       "0            2.400          0.000          0.000             0.0  \n",
       "1            2.400          0.000          0.000             0.0  \n",
       "2            2.400          0.000          0.000             0.0  \n",
       "3            2.400          0.000          0.000             0.0  \n",
       "4            2.400          0.000          0.000             0.0  "
      ]
     },
     "execution_count": 5,
     "metadata": {},
     "output_type": "execute_result"
    }
   ],
   "source": [
    "df.head()"
   ]
  },
  {
   "cell_type": "code",
   "execution_count": 6,
   "metadata": {},
   "outputs": [],
   "source": [
    "new_df = df.replace('?', np.nan)"
   ]
  },
  {
   "cell_type": "code",
   "execution_count": 7,
   "metadata": {},
   "outputs": [
    {
     "data": {
      "text/html": [
       "<div>\n",
       "<style scoped>\n",
       "    .dataframe tbody tr th:only-of-type {\n",
       "        vertical-align: middle;\n",
       "    }\n",
       "\n",
       "    .dataframe tbody tr th {\n",
       "        vertical-align: top;\n",
       "    }\n",
       "\n",
       "    .dataframe thead th {\n",
       "        text-align: right;\n",
       "    }\n",
       "</style>\n",
       "<table border=\"1\" class=\"dataframe\">\n",
       "  <thead>\n",
       "    <tr style=\"text-align: right;\">\n",
       "      <th></th>\n",
       "      <th>Date</th>\n",
       "      <th>Time</th>\n",
       "      <th>Global_active_power</th>\n",
       "      <th>Global_reactive_power</th>\n",
       "      <th>Voltage</th>\n",
       "      <th>Global_intensity</th>\n",
       "      <th>Sub_metering_1</th>\n",
       "      <th>Sub_metering_2</th>\n",
       "      <th>Sub_metering_3</th>\n",
       "    </tr>\n",
       "  </thead>\n",
       "  <tbody>\n",
       "    <tr>\n",
       "      <th>0</th>\n",
       "      <td>15/1/2007</td>\n",
       "      <td>13:17:00</td>\n",
       "      <td>0.500</td>\n",
       "      <td>0.130</td>\n",
       "      <td>243.350</td>\n",
       "      <td>2.400</td>\n",
       "      <td>0.000</td>\n",
       "      <td>0.000</td>\n",
       "      <td>0.0</td>\n",
       "    </tr>\n",
       "    <tr>\n",
       "      <th>1</th>\n",
       "      <td>15/1/2007</td>\n",
       "      <td>13:18:00</td>\n",
       "      <td>0.512</td>\n",
       "      <td>0.130</td>\n",
       "      <td>243.000</td>\n",
       "      <td>2.400</td>\n",
       "      <td>0.000</td>\n",
       "      <td>0.000</td>\n",
       "      <td>0.0</td>\n",
       "    </tr>\n",
       "    <tr>\n",
       "      <th>2</th>\n",
       "      <td>15/1/2007</td>\n",
       "      <td>13:19:00</td>\n",
       "      <td>0.508</td>\n",
       "      <td>0.132</td>\n",
       "      <td>243.520</td>\n",
       "      <td>2.400</td>\n",
       "      <td>0.000</td>\n",
       "      <td>0.000</td>\n",
       "      <td>0.0</td>\n",
       "    </tr>\n",
       "    <tr>\n",
       "      <th>3</th>\n",
       "      <td>15/1/2007</td>\n",
       "      <td>13:20:00</td>\n",
       "      <td>0.504</td>\n",
       "      <td>0.126</td>\n",
       "      <td>242.660</td>\n",
       "      <td>2.400</td>\n",
       "      <td>0.000</td>\n",
       "      <td>0.000</td>\n",
       "      <td>0.0</td>\n",
       "    </tr>\n",
       "    <tr>\n",
       "      <th>4</th>\n",
       "      <td>15/1/2007</td>\n",
       "      <td>13:21:00</td>\n",
       "      <td>0.504</td>\n",
       "      <td>0.132</td>\n",
       "      <td>243.570</td>\n",
       "      <td>2.400</td>\n",
       "      <td>0.000</td>\n",
       "      <td>0.000</td>\n",
       "      <td>0.0</td>\n",
       "    </tr>\n",
       "  </tbody>\n",
       "</table>\n",
       "</div>"
      ],
      "text/plain": [
       "        Date      Time Global_active_power Global_reactive_power  Voltage  \\\n",
       "0  15/1/2007  13:17:00               0.500                 0.130  243.350   \n",
       "1  15/1/2007  13:18:00               0.512                 0.130  243.000   \n",
       "2  15/1/2007  13:19:00               0.508                 0.132  243.520   \n",
       "3  15/1/2007  13:20:00               0.504                 0.126  242.660   \n",
       "4  15/1/2007  13:21:00               0.504                 0.132  243.570   \n",
       "\n",
       "  Global_intensity Sub_metering_1 Sub_metering_2  Sub_metering_3  \n",
       "0            2.400          0.000          0.000             0.0  \n",
       "1            2.400          0.000          0.000             0.0  \n",
       "2            2.400          0.000          0.000             0.0  \n",
       "3            2.400          0.000          0.000             0.0  \n",
       "4            2.400          0.000          0.000             0.0  "
      ]
     },
     "execution_count": 7,
     "metadata": {},
     "output_type": "execute_result"
    }
   ],
   "source": [
    "datas = new_df.dropna(how='any')\n",
    "datas.head()"
   ]
  },
  {
   "cell_type": "code",
   "execution_count": 8,
   "metadata": {},
   "outputs": [],
   "source": [
    "def date_format(dt): \n",
    "    import time\n",
    "    t=time.strptime(' '.join(dt),'%d/%m/%Y %H:%M:%S')\n",
    "    return(t.tm_year,t.tm_mon,t.tm_mday,t.tm_hour,t.tm_min,t.tm_sec)"
   ]
  },
  {
   "cell_type": "code",
   "execution_count": 9,
   "metadata": {},
   "outputs": [],
   "source": [
    "X = datas[names[0:2]]\n",
    "X = X.apply(lambda x :pd.Series(date_format(x)),axis=1)\n",
    "Y = datas[names[2]]"
   ]
  },
  {
   "cell_type": "code",
   "execution_count": 10,
   "metadata": {},
   "outputs": [
    {
     "name": "stdout",
     "output_type": "stream",
     "text": [
      "      0  1   2   3   4  5\n",
      "0  2007  1  15  13  17  0\n",
      "1  2007  1  15  13  18  0\n",
      "2  2007  1  15  13  19  0\n",
      "3  2007  1  15  13  20  0\n",
      "4  2007  1  15  13  21  0\n",
      "0    0.500\n",
      "1    0.512\n",
      "2    0.508\n",
      "3    0.504\n",
      "4    0.504\n",
      "Name: Global_active_power, dtype: object\n"
     ]
    }
   ],
   "source": [
    "print(X.head(5))\n",
    "print(Y.head(5))"
   ]
  },
  {
   "cell_type": "code",
   "execution_count": 11,
   "metadata": {},
   "outputs": [],
   "source": [
    "X_train,X_test,Y_train,Y_test = train_test_split(X,Y,test_size=0.2,random_state=0)"
   ]
  },
  {
   "cell_type": "code",
   "execution_count": 12,
   "metadata": {},
   "outputs": [],
   "source": [
    "from sklearn.preprocessing import StandardScaler"
   ]
  },
  {
   "cell_type": "code",
   "execution_count": 13,
   "metadata": {},
   "outputs": [],
   "source": [
    "ss=StandardScaler()\n",
    "X_train = ss.fit_transform(X_train)\n",
    "X_test = ss.transform(X_test)"
   ]
  },
  {
   "cell_type": "code",
   "execution_count": 14,
   "metadata": {},
   "outputs": [
    {
     "data": {
      "text/plain": [
       "LinearRegression()"
      ]
     },
     "execution_count": 14,
     "metadata": {},
     "output_type": "execute_result"
    }
   ],
   "source": [
    "lr = LinearRegression()\n",
    "lr.fit(X_train,Y_train)"
   ]
  },
  {
   "cell_type": "code",
   "execution_count": 15,
   "metadata": {},
   "outputs": [
    {
     "name": "stdout",
     "output_type": "stream",
     "text": [
      "TC:\n",
      " 0.10578348172580221\n"
     ]
    }
   ],
   "source": [
    "y_predict = lr.predict(X_test)\n",
    "TC=lr.score(X_train,Y_train)\n",
    "print('TC:\\n',TC)"
   ]
  },
  {
   "cell_type": "code",
   "execution_count": 17,
   "metadata": {},
   "outputs": [
    {
     "ename": "SyntaxError",
     "evalue": "invalid syntax (<ipython-input-17-6a9eab70cc08>, line 2)",
     "output_type": "error",
     "traceback": [
      "\u001b[0;36m  File \u001b[0;32m\"<ipython-input-17-6a9eab70cc08>\"\u001b[0;36m, line \u001b[0;32m2\u001b[0m\n\u001b[0;31m    plt.figure(facecolor='w')\u001b[0m\n\u001b[0m      ^\u001b[0m\n\u001b[0;31mSyntaxError\u001b[0m\u001b[0;31m:\u001b[0m invalid syntax\n"
     ]
    }
   ],
   "source": [
    "t = np.arange(len(X_test)\n",
    "plt.figure(facecolor='w')\n",
    "plt.plot(t,Y_test,'r-',linewidth=2,label=u'TD')\n",
    "plt.plot(t,y_predict,'g-',linewidth=2,label=u'PD')\n",
    "plt.legend(loc='lower right')\n",
    "plt.title(u'Tp&P',fontsize=20)\n",
    "plt.grid(b=True)\n",
    "plt.show()"
   ]
  }
 ],
 "metadata": {
  "kernelspec": {
   "display_name": "Python 3",
   "language": "python",
   "name": "python3"
  },
  "language_info": {
   "codemirror_mode": {
    "name": "ipython",
    "version": 3
   },
   "file_extension": ".py",
   "mimetype": "text/x-python",
   "name": "python",
   "nbconvert_exporter": "python",
   "pygments_lexer": "ipython3",
   "version": "3.6.12"
  }
 },
 "nbformat": 4,
 "nbformat_minor": 4
}

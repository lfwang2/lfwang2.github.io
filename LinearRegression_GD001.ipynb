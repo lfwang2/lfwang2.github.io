{
 "cells": [
  {
   "cell_type": "code",
   "execution_count": 1,
   "metadata": {},
   "outputs": [],
   "source": [
    "import numpy as np\n",
    "import pandas as pd"
   ]
  },
  {
   "cell_type": "code",
   "execution_count": 4,
   "metadata": {},
   "outputs": [],
   "source": [
    "data = pd.read_csv(r'boston_housing_data.csv')\n",
    "data = data.replace('?',np.nan)\n",
    "data = data.dropna(how = 'any')"
   ]
  },
  {
   "cell_type": "code",
   "execution_count": 5,
   "metadata": {},
   "outputs": [],
   "source": [
    "class LinearRegression:\n",
    "    def __init__(self, alpha, times):\n",
    "        self.alpha = alpha\n",
    "        self.times = times\n",
    "    def fit(self, X, y):\n",
    "        X=np.asarray(X)\n",
    "        y=np.asarray(y)\n",
    "        self.w_=np.zeros(1+X.shape[1])\n",
    "        self.loss_=[]\n",
    "        for i in range(self.times):\n",
    "            y_hat=np.dot(X,self.w_[1:]+self.w_[0])\n",
    "            error=y-y_hat\n",
    "            self.loss_.append(np.sum(error**2)/2)\n",
    "            \n",
    "            self.w_[0] += self.alpha* np.sum(error)\n",
    "            self.w_[1:] += self.alpha*np.dot(X.T,error)\n",
    "    def predict(self,X):\n",
    "        X=np.asarray(X)\n",
    "        result=np.dot(X,self.w_[1:]+self.w_[0])\n",
    "        return result\n",
    "    "
   ]
  },
  {
   "cell_type": "code",
   "execution_count": 6,
   "metadata": {},
   "outputs": [
    {
     "data": {
      "text/plain": [
       "array([-6.90524385e+102, -6.53598350e+102, -6.10595221e+102,\n",
       "       -6.37054094e+102, -5.96556185e+102, -4.77128183e+102,\n",
       "       -7.24768007e+102, -4.98358521e+102, -8.97028625e+102,\n",
       "       -5.93342240e+102, -9.26389874e+102, -9.27435093e+102,\n",
       "       -6.94123405e+102, -5.95582201e+102, -9.30905928e+102,\n",
       "       -5.97596244e+102, -5.79162409e+102, -5.28677707e+102,\n",
       "       -5.28871083e+102, -5.89885657e+102, -5.75158915e+102,\n",
       "       -6.80332221e+102, -9.16536741e+102, -5.65358117e+102,\n",
       "       -5.92175784e+102, -5.23515431e+102, -5.34916377e+102,\n",
       "       -5.70039689e+102, -5.31024184e+102, -9.09851096e+102,\n",
       "       -5.95041979e+102, -9.70987019e+102, -5.52622642e+102,\n",
       "       -5.60043178e+102, -6.07199962e+102, -9.25517635e+102,\n",
       "       -5.77383411e+102, -5.86199621e+102, -5.51165546e+102,\n",
       "       -5.47914701e+102, -5.80537894e+102, -5.52641523e+102,\n",
       "       -5.83391300e+102, -6.06341852e+102, -9.25746535e+102,\n",
       "       -5.55607115e+102, -6.03877390e+102, -5.86455066e+102,\n",
       "       -6.78341131e+102, -7.19643942e+102, -5.41409266e+102,\n",
       "       -6.01147540e+102])"
      ]
     },
     "metadata": {},
     "output_type": "display_data"
    }
   ],
   "source": [
    "lr=LinearRegression(alpha=0.001,times=20)\n",
    "t = data.sample(len(data), random_state=0)\n",
    "train_X = t.iloc[:400,:-1]\n",
    "train_y = t.iloc[:400,-1]\n",
    "test_X = t.iloc[400:,:-1]\n",
    "test_y =t.iloc[400:,-1]\n",
    "#display('test_X:\\n',test_X)\n",
    "lr.fit(train_X, train_y)\n",
    "result = lr.predict(test_X)\n",
    "display(result)\n"
   ]
  }
 ],
 "metadata": {
  "kernelspec": {
   "display_name": "Python 3",
   "language": "python",
   "name": "python3"
  },
  "language_info": {
   "codemirror_mode": {
    "name": "ipython",
    "version": 3
   },
   "file_extension": ".py",
   "mimetype": "text/x-python",
   "name": "python",
   "nbconvert_exporter": "python",
   "pygments_lexer": "ipython3",
   "version": "3.6.12"
  }
 },
 "nbformat": 4,
 "nbformat_minor": 4
}

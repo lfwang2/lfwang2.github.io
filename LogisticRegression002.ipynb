{
 "cells": [
  {
   "cell_type": "code",
   "execution_count": 1,
   "metadata": {},
   "outputs": [],
   "source": [
    "import numpy as np\n",
    "import pandas as pd"
   ]
  },
  {
   "cell_type": "code",
   "execution_count": 2,
   "metadata": {},
   "outputs": [],
   "source": [
    "data = pd.read_csv('iris.data',header = None)\n",
    "date = data.replace('?',np.nan)\n",
    "data = data.dropna(how='any')\n",
    "data = data.drop_duplicates()"
   ]
  },
  {
   "cell_type": "code",
   "execution_count": 3,
   "metadata": {},
   "outputs": [],
   "source": [
    "data[4] = data[4].map({'Iris-versicolor':0,'Iris-setosa':1,'Iris-virginica':2})"
   ]
  },
  {
   "cell_type": "code",
   "execution_count": 4,
   "metadata": {},
   "outputs": [],
   "source": [
    "t1=data[data[4]==0]\n",
    "t2=data[data[4]==1]\n",
    "t1=t1.sample(len(t1),random_state=0)\n",
    "t2=t2.sample(len(t2),random_state=0)\n",
    "\n",
    "train_X = pd.concat([t1.iloc[:40,:-1],t2.iloc[:40,:-1]],axis=0)\n",
    "train_y = pd.concat([t1.iloc[:40,-1],t2.iloc[:40,-1]], axis=0)\n",
    "test_X = pd.concat([t1.iloc[40:,:-1],t2.iloc[40:,:-1]],axis=0)\n",
    "test_y = pd.concat([t1.iloc[40:,-1],t2.iloc[40:,-1]], axis=0)\n"
   ]
  },
  {
   "cell_type": "code",
   "execution_count": 8,
   "metadata": {},
   "outputs": [],
   "source": [
    "class LogisticRegression:\n",
    "    \n",
    "    def __init__(self, alpha, times):\n",
    "        self.alpha = alpha\n",
    "        self.times = times\n",
    "    \n",
    "    def sigmoid(self,z):\n",
    "        return(1.0/(1.0+np.exp(-z)))\n",
    "    \n",
    "    def fit(self,X,y):\n",
    "        X=np.asarray(X)\n",
    "        y=np.asarray(y)\n",
    "        \n",
    "        self.w_ = np.zeros(1+X.shape[1])\n",
    "        self.loss_ = []\n",
    "        for i in range(self.times):\n",
    "            z=np.dot(X,self.w_[1:])+self.w_[0]\n",
    "            p=self.sigmoid(z)\n",
    "            cost=-np.sum(y*np.log(p)+(1-y)*np.log(1-p))\n",
    "            self.loss_.append(cost)\n",
    "            \n",
    "            self.w_[0] += self.alpha*np.sum(y-p)\n",
    "            self.w_[1:] += self.alpha*np.dot(X.T, y-p)\n",
    "        \n",
    "    def predict_proba(self,X):\n",
    "        X=np.asarray(X)\n",
    "        z=np.dot(X,self.w_[1:])+self.w_[0]\n",
    "        p=self.sigmoid(z)\n",
    "        p=p.reshape(-1,1)\n",
    "        return np.concatenate([1-p,p],axis=1)\n",
    "    \n",
    "    def predict(self,X):\n",
    "        return np.argmax(self.predict_proba(X),axis=1)"
   ]
  },
  {
   "cell_type": "code",
   "execution_count": 9,
   "metadata": {
    "collapsed": true
   },
   "outputs": [
    {
     "data": {
      "text/plain": [
       "array([[0.99556826, 0.00443174],\n",
       "       [0.98410068, 0.01589932],\n",
       "       [0.98776425, 0.01223575],\n",
       "       [0.98963123, 0.01036877],\n",
       "       [0.99280127, 0.00719873],\n",
       "       [0.99069063, 0.00930937],\n",
       "       [0.99491877, 0.00508123],\n",
       "       [0.99324116, 0.00675884],\n",
       "       [0.99102776, 0.00897224],\n",
       "       [0.99371804, 0.00628196],\n",
       "       [0.00933381, 0.99066619],\n",
       "       [0.00702376, 0.99297624],\n",
       "       [0.02071892, 0.97928108],\n",
       "       [0.07037915, 0.92962085],\n",
       "       [0.01714725, 0.98285275],\n",
       "       [0.02642633, 0.97357367],\n",
       "       [0.00813116, 0.99186884],\n",
       "       [0.00819442, 0.99180558]])"
      ]
     },
     "execution_count": 9,
     "metadata": {},
     "output_type": "execute_result"
    }
   ],
   "source": [
    "lr=LogisticRegression(alpha=0.01,times=20)\n",
    "lr.fit(train_X, train_y)\n",
    "result=lr.predict_proba(test_X)"
   ]
  },
  {
   "cell_type": "code",
   "execution_count": null,
   "metadata": {},
   "outputs": [],
   "source": [
    "import matplotlib as mpl\n",
    "import matplotlib.pyplot as plt"
   ]
  },
  {
   "cell_type": "code",
   "execution_count": null,
   "metadata": {},
   "outputs": [],
   "source": [
    "plt.plot(result,'ro',ms=12,label='PD')\n",
    "plt.plot(test_y.values,'go',label='TD')\n",
    "plt.title('LogisticRegression')\n",
    "plt.xlabel('CaseID')\n",
    "plt.ylabel('Type')\n",
    "plt.show()\n"
   ]
  }
 ],
 "metadata": {
  "kernelspec": {
   "display_name": "Python 3",
   "language": "python",
   "name": "python3"
  },
  "language_info": {
   "codemirror_mode": {
    "name": "ipython",
    "version": 3
   },
   "file_extension": ".py",
   "mimetype": "text/x-python",
   "name": "python",
   "nbconvert_exporter": "python",
   "pygments_lexer": "ipython3",
   "version": "3.6.12"
  }
 },
 "nbformat": 4,
 "nbformat_minor": 4
}
